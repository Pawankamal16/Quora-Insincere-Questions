{
 "cells": [
  {
   "cell_type": "markdown",
   "id": "575ac025",
   "metadata": {
    "id": "yfhnvoCap5SD",
    "papermill": {
     "duration": 0.016444,
     "end_time": "2023-06-06T14:53:31.674894",
     "exception": false,
     "start_time": "2023-06-06T14:53:31.658450",
     "status": "completed"
    },
    "tags": []
   },
   "source": [
    "### Data Exploration"
   ]
  },
  {
   "cell_type": "code",
   "execution_count": 1,
   "id": "c0c271b9",
   "metadata": {
    "execution": {
     "iopub.execute_input": "2023-06-06T14:53:31.705394Z",
     "iopub.status.busy": "2023-06-06T14:53:31.704989Z",
     "iopub.status.idle": "2023-06-06T14:53:31.716872Z",
     "shell.execute_reply": "2023-06-06T14:53:31.715708Z"
    },
    "id": "R1hfiO4Nq8zZ",
    "papermill": {
     "duration": 0.03028,
     "end_time": "2023-06-06T14:53:31.719528",
     "exception": false,
     "start_time": "2023-06-06T14:53:31.689248",
     "status": "completed"
    },
    "tags": []
   },
   "outputs": [],
   "source": [
    "import pandas as pd"
   ]
  },
  {
   "cell_type": "code",
   "execution_count": 2,
   "id": "6da6a169",
   "metadata": {
    "execution": {
     "iopub.execute_input": "2023-06-06T14:53:31.749224Z",
     "iopub.status.busy": "2023-06-06T14:53:31.748781Z",
     "iopub.status.idle": "2023-06-06T14:53:31.754304Z",
     "shell.execute_reply": "2023-06-06T14:53:31.753057Z"
    },
    "id": "i3MGeXJqrGdn",
    "papermill": {
     "duration": 0.023016,
     "end_time": "2023-06-06T14:53:31.756549",
     "exception": false,
     "start_time": "2023-06-06T14:53:31.733533",
     "status": "completed"
    },
    "tags": []
   },
   "outputs": [],
   "source": [
    "train_fname = '/kaggle/input/quora-insincere-questions-classification/train.csv'\n",
    "test_fname = '/kaggle/input/quora-insincere-questions-classification/test.csv'\n",
    "submission_fname = '/kaggle/input/quora-insincere-questions-classification/sample_submission.csv'"
   ]
  },
  {
   "cell_type": "code",
   "execution_count": 3,
   "id": "e3f80277",
   "metadata": {
    "execution": {
     "iopub.execute_input": "2023-06-06T14:53:31.786580Z",
     "iopub.status.busy": "2023-06-06T14:53:31.786042Z",
     "iopub.status.idle": "2023-06-06T14:53:38.442107Z",
     "shell.execute_reply": "2023-06-06T14:53:38.441179Z"
    },
    "id": "TzoKkZS_rXbW",
    "papermill": {
     "duration": 6.67416,
     "end_time": "2023-06-06T14:53:38.444796",
     "exception": false,
     "start_time": "2023-06-06T14:53:31.770636",
     "status": "completed"
    },
    "tags": []
   },
   "outputs": [],
   "source": [
    "df = pd.read_csv(train_fname)\n",
    "test_df = pd.read_csv(test_fname)\n",
    "submission_df = pd.read_csv(submission_fname)"
   ]
  },
  {
   "cell_type": "code",
   "execution_count": 4,
   "id": "00d92230",
   "metadata": {
    "execution": {
     "iopub.execute_input": "2023-06-06T14:53:38.475274Z",
     "iopub.status.busy": "2023-06-06T14:53:38.474564Z",
     "iopub.status.idle": "2023-06-06T14:53:38.505556Z",
     "shell.execute_reply": "2023-06-06T14:53:38.504705Z"
    },
    "id": "ppnDRNQUraCS",
    "outputId": "5c10dc9b-e4ac-4eca-963a-b3c4668f3cee",
    "papermill": {
     "duration": 0.049522,
     "end_time": "2023-06-06T14:53:38.508270",
     "exception": false,
     "start_time": "2023-06-06T14:53:38.458748",
     "status": "completed"
    },
    "tags": []
   },
   "outputs": [
    {
     "data": {
      "text/html": [
       "<div>\n",
       "<style scoped>\n",
       "    .dataframe tbody tr th:only-of-type {\n",
       "        vertical-align: middle;\n",
       "    }\n",
       "\n",
       "    .dataframe tbody tr th {\n",
       "        vertical-align: top;\n",
       "    }\n",
       "\n",
       "    .dataframe thead th {\n",
       "        text-align: right;\n",
       "    }\n",
       "</style>\n",
       "<table border=\"1\" class=\"dataframe\">\n",
       "  <thead>\n",
       "    <tr style=\"text-align: right;\">\n",
       "      <th></th>\n",
       "      <th>qid</th>\n",
       "      <th>question_text</th>\n",
       "      <th>target</th>\n",
       "    </tr>\n",
       "  </thead>\n",
       "  <tbody>\n",
       "    <tr>\n",
       "      <th>0</th>\n",
       "      <td>00002165364db923c7e6</td>\n",
       "      <td>How did Quebec nationalists see their province...</td>\n",
       "      <td>0</td>\n",
       "    </tr>\n",
       "    <tr>\n",
       "      <th>1</th>\n",
       "      <td>000032939017120e6e44</td>\n",
       "      <td>Do you have an adopted dog, how would you enco...</td>\n",
       "      <td>0</td>\n",
       "    </tr>\n",
       "    <tr>\n",
       "      <th>2</th>\n",
       "      <td>0000412ca6e4628ce2cf</td>\n",
       "      <td>Why does velocity affect time? Does velocity a...</td>\n",
       "      <td>0</td>\n",
       "    </tr>\n",
       "    <tr>\n",
       "      <th>3</th>\n",
       "      <td>000042bf85aa498cd78e</td>\n",
       "      <td>How did Otto von Guericke used the Magdeburg h...</td>\n",
       "      <td>0</td>\n",
       "    </tr>\n",
       "    <tr>\n",
       "      <th>4</th>\n",
       "      <td>0000455dfa3e01eae3af</td>\n",
       "      <td>Can I convert montra helicon D to a mountain b...</td>\n",
       "      <td>0</td>\n",
       "    </tr>\n",
       "    <tr>\n",
       "      <th>...</th>\n",
       "      <td>...</td>\n",
       "      <td>...</td>\n",
       "      <td>...</td>\n",
       "    </tr>\n",
       "    <tr>\n",
       "      <th>1306117</th>\n",
       "      <td>ffffcc4e2331aaf1e41e</td>\n",
       "      <td>What other technical skills do you need as a c...</td>\n",
       "      <td>0</td>\n",
       "    </tr>\n",
       "    <tr>\n",
       "      <th>1306118</th>\n",
       "      <td>ffffd431801e5a2f4861</td>\n",
       "      <td>Does MS in ECE have good job prospects in USA ...</td>\n",
       "      <td>0</td>\n",
       "    </tr>\n",
       "    <tr>\n",
       "      <th>1306119</th>\n",
       "      <td>ffffd48fb36b63db010c</td>\n",
       "      <td>Is foam insulation toxic?</td>\n",
       "      <td>0</td>\n",
       "    </tr>\n",
       "    <tr>\n",
       "      <th>1306120</th>\n",
       "      <td>ffffec519fa37cf60c78</td>\n",
       "      <td>How can one start a research project based on ...</td>\n",
       "      <td>0</td>\n",
       "    </tr>\n",
       "    <tr>\n",
       "      <th>1306121</th>\n",
       "      <td>ffffed09fedb5088744a</td>\n",
       "      <td>Who wins in a battle between a Wolverine and a...</td>\n",
       "      <td>0</td>\n",
       "    </tr>\n",
       "  </tbody>\n",
       "</table>\n",
       "<p>1306122 rows × 3 columns</p>\n",
       "</div>"
      ],
      "text/plain": [
       "                          qid  \\\n",
       "0        00002165364db923c7e6   \n",
       "1        000032939017120e6e44   \n",
       "2        0000412ca6e4628ce2cf   \n",
       "3        000042bf85aa498cd78e   \n",
       "4        0000455dfa3e01eae3af   \n",
       "...                       ...   \n",
       "1306117  ffffcc4e2331aaf1e41e   \n",
       "1306118  ffffd431801e5a2f4861   \n",
       "1306119  ffffd48fb36b63db010c   \n",
       "1306120  ffffec519fa37cf60c78   \n",
       "1306121  ffffed09fedb5088744a   \n",
       "\n",
       "                                             question_text  target  \n",
       "0        How did Quebec nationalists see their province...       0  \n",
       "1        Do you have an adopted dog, how would you enco...       0  \n",
       "2        Why does velocity affect time? Does velocity a...       0  \n",
       "3        How did Otto von Guericke used the Magdeburg h...       0  \n",
       "4        Can I convert montra helicon D to a mountain b...       0  \n",
       "...                                                    ...     ...  \n",
       "1306117  What other technical skills do you need as a c...       0  \n",
       "1306118  Does MS in ECE have good job prospects in USA ...       0  \n",
       "1306119                          Is foam insulation toxic?       0  \n",
       "1306120  How can one start a research project based on ...       0  \n",
       "1306121  Who wins in a battle between a Wolverine and a...       0  \n",
       "\n",
       "[1306122 rows x 3 columns]"
      ]
     },
     "execution_count": 4,
     "metadata": {},
     "output_type": "execute_result"
    }
   ],
   "source": [
    "df"
   ]
  },
  {
   "cell_type": "markdown",
   "id": "6f62e544",
   "metadata": {
    "id": "GfE5KrxRt72U",
    "papermill": {
     "duration": 0.014049,
     "end_time": "2023-06-06T14:53:38.536883",
     "exception": false,
     "start_time": "2023-06-06T14:53:38.522834",
     "status": "completed"
    },
    "tags": []
   },
   "source": [
    "## Text Preprocessing"
   ]
  },
  {
   "cell_type": "markdown",
   "id": "b65f1003",
   "metadata": {
    "id": "CfCQfZ2dgprv",
    "papermill": {
     "duration": 0.014129,
     "end_time": "2023-06-06T14:53:38.565486",
     "exception": false,
     "start_time": "2023-06-06T14:53:38.551357",
     "status": "completed"
    },
    "tags": []
   },
   "source": [
    "### Tokenization"
   ]
  },
  {
   "cell_type": "code",
   "execution_count": 5,
   "id": "3b4d6de3",
   "metadata": {
    "execution": {
     "iopub.execute_input": "2023-06-06T14:53:38.596720Z",
     "iopub.status.busy": "2023-06-06T14:53:38.595701Z",
     "iopub.status.idle": "2023-06-06T14:53:40.600342Z",
     "shell.execute_reply": "2023-06-06T14:53:40.599088Z"
    },
    "id": "lwAGB2aafSNs",
    "papermill": {
     "duration": 2.023111,
     "end_time": "2023-06-06T14:53:40.603057",
     "exception": false,
     "start_time": "2023-06-06T14:53:38.579946",
     "status": "completed"
    },
    "tags": []
   },
   "outputs": [],
   "source": [
    "import nltk\n",
    "from nltk.tokenize import word_tokenize"
   ]
  },
  {
   "cell_type": "code",
   "execution_count": 6,
   "id": "64537b9a",
   "metadata": {
    "execution": {
     "iopub.execute_input": "2023-06-06T14:53:40.634054Z",
     "iopub.status.busy": "2023-06-06T14:53:40.633623Z",
     "iopub.status.idle": "2023-06-06T14:53:40.809296Z",
     "shell.execute_reply": "2023-06-06T14:53:40.808052Z"
    },
    "id": "Ap6Rd5mHfSKR",
    "outputId": "4084a33f-3eca-4523-d802-962c967f13b9",
    "papermill": {
     "duration": 0.19521,
     "end_time": "2023-06-06T14:53:40.813117",
     "exception": false,
     "start_time": "2023-06-06T14:53:40.617907",
     "status": "completed"
    },
    "tags": []
   },
   "outputs": [
    {
     "name": "stdout",
     "output_type": "stream",
     "text": [
      "[nltk_data] Downloading package punkt to /usr/share/nltk_data...\n",
      "[nltk_data]   Package punkt is already up-to-date!\n"
     ]
    },
    {
     "data": {
      "text/plain": [
       "True"
      ]
     },
     "execution_count": 6,
     "metadata": {},
     "output_type": "execute_result"
    }
   ],
   "source": [
    "nltk.download('punkt')\n"
   ]
  },
  {
   "cell_type": "markdown",
   "id": "9382ec1f",
   "metadata": {
    "id": "Yn1Za7PKgl0I",
    "papermill": {
     "duration": 0.015604,
     "end_time": "2023-06-06T14:53:40.849370",
     "exception": false,
     "start_time": "2023-06-06T14:53:40.833766",
     "status": "completed"
    },
    "tags": []
   },
   "source": [
    "### Removing Stop Words"
   ]
  },
  {
   "cell_type": "code",
   "execution_count": 7,
   "id": "d1f734c8",
   "metadata": {
    "execution": {
     "iopub.execute_input": "2023-06-06T14:53:40.890720Z",
     "iopub.status.busy": "2023-06-06T14:53:40.890241Z",
     "iopub.status.idle": "2023-06-06T14:53:40.895311Z",
     "shell.execute_reply": "2023-06-06T14:53:40.894360Z"
    },
    "id": "BUGk7WXaglAO",
    "papermill": {
     "duration": 0.026084,
     "end_time": "2023-06-06T14:53:40.898338",
     "exception": false,
     "start_time": "2023-06-06T14:53:40.872254",
     "status": "completed"
    },
    "tags": []
   },
   "outputs": [],
   "source": [
    "from nltk.corpus import stopwords"
   ]
  },
  {
   "cell_type": "code",
   "execution_count": 8,
   "id": "766b923d",
   "metadata": {
    "execution": {
     "iopub.execute_input": "2023-06-06T14:53:40.934481Z",
     "iopub.status.busy": "2023-06-06T14:53:40.933861Z",
     "iopub.status.idle": "2023-06-06T14:53:40.949943Z",
     "shell.execute_reply": "2023-06-06T14:53:40.948859Z"
    },
    "id": "9RgWoh__gieM",
    "outputId": "7c5270e0-94f9-4076-8b35-e8eb75e7248c",
    "papermill": {
     "duration": 0.034587,
     "end_time": "2023-06-06T14:53:40.952446",
     "exception": false,
     "start_time": "2023-06-06T14:53:40.917859",
     "status": "completed"
    },
    "tags": []
   },
   "outputs": [
    {
     "name": "stdout",
     "output_type": "stream",
     "text": [
      "[nltk_data] Downloading package stopwords to /usr/share/nltk_data...\n",
      "[nltk_data]   Package stopwords is already up-to-date!\n"
     ]
    },
    {
     "data": {
      "text/plain": [
       "True"
      ]
     },
     "execution_count": 8,
     "metadata": {},
     "output_type": "execute_result"
    }
   ],
   "source": [
    "nltk.download('stopwords')"
   ]
  },
  {
   "cell_type": "code",
   "execution_count": 9,
   "id": "a592895b",
   "metadata": {
    "execution": {
     "iopub.execute_input": "2023-06-06T14:53:40.985950Z",
     "iopub.status.busy": "2023-06-06T14:53:40.985551Z",
     "iopub.status.idle": "2023-06-06T14:53:40.994017Z",
     "shell.execute_reply": "2023-06-06T14:53:40.992638Z"
    },
    "id": "DLCU8ffNfSHy",
    "papermill": {
     "duration": 0.028952,
     "end_time": "2023-06-06T14:53:40.996699",
     "exception": false,
     "start_time": "2023-06-06T14:53:40.967747",
     "status": "completed"
    },
    "tags": []
   },
   "outputs": [],
   "source": [
    "english_stopwords = stopwords.words('english')"
   ]
  },
  {
   "cell_type": "code",
   "execution_count": 10,
   "id": "52336fe5",
   "metadata": {
    "execution": {
     "iopub.execute_input": "2023-06-06T14:53:41.028671Z",
     "iopub.status.busy": "2023-06-06T14:53:41.028027Z",
     "iopub.status.idle": "2023-06-06T14:53:41.035047Z",
     "shell.execute_reply": "2023-06-06T14:53:41.033939Z"
    },
    "id": "I56wLgjXgxiQ",
    "outputId": "b8ebe13c-dc47-4281-fb64-f03cad228143",
    "papermill": {
     "duration": 0.025808,
     "end_time": "2023-06-06T14:53:41.037502",
     "exception": false,
     "start_time": "2023-06-06T14:53:41.011694",
     "status": "completed"
    },
    "tags": []
   },
   "outputs": [
    {
     "data": {
      "text/plain": [
       "\"i, me, my, myself, we, our, ours, ourselves, you, you're, you've, you'll, you'd, your, yours, yourself, yourselves, he, him, his, himself, she, she's, her, hers, herself, it, it's, its, itself, they, them, their, theirs, themselves, what, which, who, whom, this, that, that'll, these, those, am, is, are, was, were, be, been, being, have, has, had, having, do, does, did, doing, a, an, the, and, but, if, or, because, as, until, while, of, at, by, for, with, about, against, between, into, through, during, before, after, above, below, to, from, up, down, in, out, on, off, over, under, again, further, then, once, here, there, when, where, why, how, all, any, both, each, few, more, most, other, some, such, no, nor, not, only, own, same, so, than, too, very, s, t, can, will, just, don, don't, should, should've, now, d, ll, m, o, re, ve, y, ain, aren, aren't, couldn, couldn't, didn, didn't, doesn, doesn't, hadn, hadn't, hasn, hasn't, haven, haven't, isn, isn't, ma, mightn, mightn't, mustn, mustn't, needn, needn't, shan, shan't, shouldn, shouldn't, wasn, wasn't, weren, weren't, won, won't, wouldn, wouldn't\""
      ]
     },
     "execution_count": 10,
     "metadata": {},
     "output_type": "execute_result"
    }
   ],
   "source": [
    "\", \".join(english_stopwords)"
   ]
  },
  {
   "cell_type": "markdown",
   "id": "ea4fc84e",
   "metadata": {
    "id": "QDtxCk4dg9Y5",
    "papermill": {
     "duration": 0.014771,
     "end_time": "2023-06-06T14:53:41.068707",
     "exception": false,
     "start_time": "2023-06-06T14:53:41.053936",
     "status": "completed"
    },
    "tags": []
   },
   "source": [
    "### Stemming"
   ]
  },
  {
   "cell_type": "code",
   "execution_count": 11,
   "id": "3eda9d59",
   "metadata": {
    "execution": {
     "iopub.execute_input": "2023-06-06T14:53:41.100690Z",
     "iopub.status.busy": "2023-06-06T14:53:41.100305Z",
     "iopub.status.idle": "2023-06-06T14:53:41.105020Z",
     "shell.execute_reply": "2023-06-06T14:53:41.103721Z"
    },
    "id": "z-lURHZ_hC08",
    "papermill": {
     "duration": 0.023642,
     "end_time": "2023-06-06T14:53:41.107444",
     "exception": false,
     "start_time": "2023-06-06T14:53:41.083802",
     "status": "completed"
    },
    "tags": []
   },
   "outputs": [],
   "source": [
    "from nltk.stem.snowball import SnowballStemmer"
   ]
  },
  {
   "cell_type": "code",
   "execution_count": 12,
   "id": "38ec2026",
   "metadata": {
    "execution": {
     "iopub.execute_input": "2023-06-06T14:53:41.139989Z",
     "iopub.status.busy": "2023-06-06T14:53:41.139618Z",
     "iopub.status.idle": "2023-06-06T14:53:41.144502Z",
     "shell.execute_reply": "2023-06-06T14:53:41.143402Z"
    },
    "id": "hhuRoxu5YXzG",
    "papermill": {
     "duration": 0.024368,
     "end_time": "2023-06-06T14:53:41.146864",
     "exception": false,
     "start_time": "2023-06-06T14:53:41.122496",
     "status": "completed"
    },
    "tags": []
   },
   "outputs": [],
   "source": [
    "stemmer = SnowballStemmer(language='english')"
   ]
  },
  {
   "cell_type": "code",
   "execution_count": 13,
   "id": "91092415",
   "metadata": {
    "execution": {
     "iopub.execute_input": "2023-06-06T14:53:41.179536Z",
     "iopub.status.busy": "2023-06-06T14:53:41.178354Z",
     "iopub.status.idle": "2023-06-06T14:53:41.183769Z",
     "shell.execute_reply": "2023-06-06T14:53:41.182970Z"
    },
    "id": "359DyslSX19w",
    "papermill": {
     "duration": 0.023966,
     "end_time": "2023-06-06T14:53:41.185838",
     "exception": false,
     "start_time": "2023-06-06T14:53:41.161872",
     "status": "completed"
    },
    "tags": []
   },
   "outputs": [],
   "source": [
    "def tokenize(text):\n",
    "  return [stemmer.stem(word) for word in word_tokenize(text) if word.lower() not in english_stopwords]"
   ]
  },
  {
   "cell_type": "markdown",
   "id": "5c4aaa5d",
   "metadata": {
    "id": "cZwK8sGjh1bD",
    "papermill": {
     "duration": 0.014672,
     "end_time": "2023-06-06T14:53:41.216135",
     "exception": false,
     "start_time": "2023-06-06T14:53:41.201463",
     "status": "completed"
    },
    "tags": []
   },
   "source": [
    "### Count Vectorizer"
   ]
  },
  {
   "cell_type": "code",
   "execution_count": 14,
   "id": "2d3b5067",
   "metadata": {
    "execution": {
     "iopub.execute_input": "2023-06-06T14:53:41.248031Z",
     "iopub.status.busy": "2023-06-06T14:53:41.247639Z",
     "iopub.status.idle": "2023-06-06T14:53:41.252196Z",
     "shell.execute_reply": "2023-06-06T14:53:41.251059Z"
    },
    "id": "8Y_k1Z3dhyKZ",
    "papermill": {
     "duration": 0.023174,
     "end_time": "2023-06-06T14:53:41.254327",
     "exception": false,
     "start_time": "2023-06-06T14:53:41.231153",
     "status": "completed"
    },
    "tags": []
   },
   "outputs": [],
   "source": [
    "from sklearn.feature_extraction.text import CountVectorizer"
   ]
  },
  {
   "cell_type": "code",
   "execution_count": 15,
   "id": "79eb2c2d",
   "metadata": {
    "execution": {
     "iopub.execute_input": "2023-06-06T14:53:41.287028Z",
     "iopub.status.busy": "2023-06-06T14:53:41.286269Z",
     "iopub.status.idle": "2023-06-06T14:53:41.291325Z",
     "shell.execute_reply": "2023-06-06T14:53:41.290095Z"
    },
    "id": "HJOUKySJXumw",
    "papermill": {
     "duration": 0.024083,
     "end_time": "2023-06-06T14:53:41.293875",
     "exception": false,
     "start_time": "2023-06-06T14:53:41.269792",
     "status": "completed"
    },
    "tags": []
   },
   "outputs": [],
   "source": [
    "vectorizer = CountVectorizer(lowercase=True, tokenizer=tokenize, stop_words=english_stopwords, max_features=1000)"
   ]
  },
  {
   "cell_type": "code",
   "execution_count": 16,
   "id": "2962593f",
   "metadata": {
    "execution": {
     "iopub.execute_input": "2023-06-06T14:53:41.325931Z",
     "iopub.status.busy": "2023-06-06T14:53:41.325511Z",
     "iopub.status.idle": "2023-06-06T15:02:51.351936Z",
     "shell.execute_reply": "2023-06-06T15:02:51.350770Z"
    },
    "id": "bL5DV-YEY7qZ",
    "outputId": "daf0f98f-d4a8-4078-c74c-fabe274d9faf",
    "papermill": {
     "duration": 550.064996,
     "end_time": "2023-06-06T15:02:51.373925",
     "exception": false,
     "start_time": "2023-06-06T14:53:41.308929",
     "status": "completed"
    },
    "tags": []
   },
   "outputs": [
    {
     "name": "stderr",
     "output_type": "stream",
     "text": [
      "/opt/conda/lib/python3.10/site-packages/sklearn/feature_extraction/text.py:528: UserWarning: The parameter 'token_pattern' will not be used since 'tokenizer' is not None'\n",
      "  warnings.warn(\n",
      "/opt/conda/lib/python3.10/site-packages/sklearn/feature_extraction/text.py:409: UserWarning: Your stop_words may be inconsistent with your preprocessing. Tokenizing the stop words generated tokens [\"'d\", \"'s\", 'could', 'might', 'must', \"n't\", 'need', 'sha', 'wo', 'would'] not in stop_words.\n",
      "  warnings.warn(\n"
     ]
    },
    {
     "name": "stdout",
     "output_type": "stream",
     "text": [
      "CPU times: user 9min 9s, sys: 682 ms, total: 9min 9s\n",
      "Wall time: 9min 10s\n"
     ]
    },
    {
     "data": {
      "text/html": [
       "<style>#sk-container-id-1 {color: black;background-color: white;}#sk-container-id-1 pre{padding: 0;}#sk-container-id-1 div.sk-toggleable {background-color: white;}#sk-container-id-1 label.sk-toggleable__label {cursor: pointer;display: block;width: 100%;margin-bottom: 0;padding: 0.3em;box-sizing: border-box;text-align: center;}#sk-container-id-1 label.sk-toggleable__label-arrow:before {content: \"▸\";float: left;margin-right: 0.25em;color: #696969;}#sk-container-id-1 label.sk-toggleable__label-arrow:hover:before {color: black;}#sk-container-id-1 div.sk-estimator:hover label.sk-toggleable__label-arrow:before {color: black;}#sk-container-id-1 div.sk-toggleable__content {max-height: 0;max-width: 0;overflow: hidden;text-align: left;background-color: #f0f8ff;}#sk-container-id-1 div.sk-toggleable__content pre {margin: 0.2em;color: black;border-radius: 0.25em;background-color: #f0f8ff;}#sk-container-id-1 input.sk-toggleable__control:checked~div.sk-toggleable__content {max-height: 200px;max-width: 100%;overflow: auto;}#sk-container-id-1 input.sk-toggleable__control:checked~label.sk-toggleable__label-arrow:before {content: \"▾\";}#sk-container-id-1 div.sk-estimator input.sk-toggleable__control:checked~label.sk-toggleable__label {background-color: #d4ebff;}#sk-container-id-1 div.sk-label input.sk-toggleable__control:checked~label.sk-toggleable__label {background-color: #d4ebff;}#sk-container-id-1 input.sk-hidden--visually {border: 0;clip: rect(1px 1px 1px 1px);clip: rect(1px, 1px, 1px, 1px);height: 1px;margin: -1px;overflow: hidden;padding: 0;position: absolute;width: 1px;}#sk-container-id-1 div.sk-estimator {font-family: monospace;background-color: #f0f8ff;border: 1px dotted black;border-radius: 0.25em;box-sizing: border-box;margin-bottom: 0.5em;}#sk-container-id-1 div.sk-estimator:hover {background-color: #d4ebff;}#sk-container-id-1 div.sk-parallel-item::after {content: \"\";width: 100%;border-bottom: 1px solid gray;flex-grow: 1;}#sk-container-id-1 div.sk-label:hover label.sk-toggleable__label {background-color: #d4ebff;}#sk-container-id-1 div.sk-serial::before {content: \"\";position: absolute;border-left: 1px solid gray;box-sizing: border-box;top: 0;bottom: 0;left: 50%;z-index: 0;}#sk-container-id-1 div.sk-serial {display: flex;flex-direction: column;align-items: center;background-color: white;padding-right: 0.2em;padding-left: 0.2em;position: relative;}#sk-container-id-1 div.sk-item {position: relative;z-index: 1;}#sk-container-id-1 div.sk-parallel {display: flex;align-items: stretch;justify-content: center;background-color: white;position: relative;}#sk-container-id-1 div.sk-item::before, #sk-container-id-1 div.sk-parallel-item::before {content: \"\";position: absolute;border-left: 1px solid gray;box-sizing: border-box;top: 0;bottom: 0;left: 50%;z-index: -1;}#sk-container-id-1 div.sk-parallel-item {display: flex;flex-direction: column;z-index: 1;position: relative;background-color: white;}#sk-container-id-1 div.sk-parallel-item:first-child::after {align-self: flex-end;width: 50%;}#sk-container-id-1 div.sk-parallel-item:last-child::after {align-self: flex-start;width: 50%;}#sk-container-id-1 div.sk-parallel-item:only-child::after {width: 0;}#sk-container-id-1 div.sk-dashed-wrapped {border: 1px dashed gray;margin: 0 0.4em 0.5em 0.4em;box-sizing: border-box;padding-bottom: 0.4em;background-color: white;}#sk-container-id-1 div.sk-label label {font-family: monospace;font-weight: bold;display: inline-block;line-height: 1.2em;}#sk-container-id-1 div.sk-label-container {text-align: center;}#sk-container-id-1 div.sk-container {/* jupyter's `normalize.less` sets `[hidden] { display: none; }` but bootstrap.min.css set `[hidden] { display: none !important; }` so we also need the `!important` here to be able to override the default hidden behavior on the sphinx rendered scikit-learn.org. See: https://github.com/scikit-learn/scikit-learn/issues/21755 */display: inline-block !important;position: relative;}#sk-container-id-1 div.sk-text-repr-fallback {display: none;}</style><div id=\"sk-container-id-1\" class=\"sk-top-container\"><div class=\"sk-text-repr-fallback\"><pre>CountVectorizer(max_features=1000,\n",
       "                stop_words=[&#x27;i&#x27;, &#x27;me&#x27;, &#x27;my&#x27;, &#x27;myself&#x27;, &#x27;we&#x27;, &#x27;our&#x27;, &#x27;ours&#x27;,\n",
       "                            &#x27;ourselves&#x27;, &#x27;you&#x27;, &quot;you&#x27;re&quot;, &quot;you&#x27;ve&quot;, &quot;you&#x27;ll&quot;,\n",
       "                            &quot;you&#x27;d&quot;, &#x27;your&#x27;, &#x27;yours&#x27;, &#x27;yourself&#x27;, &#x27;yourselves&#x27;,\n",
       "                            &#x27;he&#x27;, &#x27;him&#x27;, &#x27;his&#x27;, &#x27;himself&#x27;, &#x27;she&#x27;, &quot;she&#x27;s&quot;,\n",
       "                            &#x27;her&#x27;, &#x27;hers&#x27;, &#x27;herself&#x27;, &#x27;it&#x27;, &quot;it&#x27;s&quot;, &#x27;its&#x27;,\n",
       "                            &#x27;itself&#x27;, ...],\n",
       "                tokenizer=&lt;function tokenize at 0x7d2f45b15990&gt;)</pre><b>In a Jupyter environment, please rerun this cell to show the HTML representation or trust the notebook. <br />On GitHub, the HTML representation is unable to render, please try loading this page with nbviewer.org.</b></div><div class=\"sk-container\" hidden><div class=\"sk-item\"><div class=\"sk-estimator sk-toggleable\"><input class=\"sk-toggleable__control sk-hidden--visually\" id=\"sk-estimator-id-1\" type=\"checkbox\" checked><label for=\"sk-estimator-id-1\" class=\"sk-toggleable__label sk-toggleable__label-arrow\">CountVectorizer</label><div class=\"sk-toggleable__content\"><pre>CountVectorizer(max_features=1000,\n",
       "                stop_words=[&#x27;i&#x27;, &#x27;me&#x27;, &#x27;my&#x27;, &#x27;myself&#x27;, &#x27;we&#x27;, &#x27;our&#x27;, &#x27;ours&#x27;,\n",
       "                            &#x27;ourselves&#x27;, &#x27;you&#x27;, &quot;you&#x27;re&quot;, &quot;you&#x27;ve&quot;, &quot;you&#x27;ll&quot;,\n",
       "                            &quot;you&#x27;d&quot;, &#x27;your&#x27;, &#x27;yours&#x27;, &#x27;yourself&#x27;, &#x27;yourselves&#x27;,\n",
       "                            &#x27;he&#x27;, &#x27;him&#x27;, &#x27;his&#x27;, &#x27;himself&#x27;, &#x27;she&#x27;, &quot;she&#x27;s&quot;,\n",
       "                            &#x27;her&#x27;, &#x27;hers&#x27;, &#x27;herself&#x27;, &#x27;it&#x27;, &quot;it&#x27;s&quot;, &#x27;its&#x27;,\n",
       "                            &#x27;itself&#x27;, ...],\n",
       "                tokenizer=&lt;function tokenize at 0x7d2f45b15990&gt;)</pre></div></div></div></div></div>"
      ],
      "text/plain": [
       "CountVectorizer(max_features=1000,\n",
       "                stop_words=['i', 'me', 'my', 'myself', 'we', 'our', 'ours',\n",
       "                            'ourselves', 'you', \"you're\", \"you've\", \"you'll\",\n",
       "                            \"you'd\", 'your', 'yours', 'yourself', 'yourselves',\n",
       "                            'he', 'him', 'his', 'himself', 'she', \"she's\",\n",
       "                            'her', 'hers', 'herself', 'it', \"it's\", 'its',\n",
       "                            'itself', ...],\n",
       "                tokenizer=<function tokenize at 0x7d2f45b15990>)"
      ]
     },
     "execution_count": 16,
     "metadata": {},
     "output_type": "execute_result"
    }
   ],
   "source": [
    "%%time\n",
    "vectorizer.fit(df['question_text'])"
   ]
  },
  {
   "cell_type": "code",
   "execution_count": 17,
   "id": "0b962928",
   "metadata": {
    "execution": {
     "iopub.execute_input": "2023-06-06T15:02:51.415987Z",
     "iopub.status.busy": "2023-06-06T15:02:51.415241Z",
     "iopub.status.idle": "2023-06-06T15:02:51.426759Z",
     "shell.execute_reply": "2023-06-06T15:02:51.425678Z"
    },
    "id": "ntsIKumbZEyA",
    "outputId": "3c99908c-0acf-4706-d57a-c8bb46b26fba",
    "papermill": {
     "duration": 0.033122,
     "end_time": "2023-06-06T15:02:51.429373",
     "exception": false,
     "start_time": "2023-06-06T15:02:51.396251",
     "status": "completed"
    },
    "tags": []
   },
   "outputs": [
    {
     "data": {
      "text/plain": [
       "array(['!', '$', '%', '&', \"'\", \"''\", \"'m\", \"'s\", '(', ')', ',', '-', '.',\n",
       "       '1', '10', '100', '12', '12th', '15', '2', '20', '2017', '2018',\n",
       "       '3', '4', '5', '6', '7', '8', ':', '?', '[', ']', '``', 'abl',\n",
       "       'abroad', 'abus', 'accept', 'access', 'accomplish', 'accord',\n",
       "       'account', 'achiev', 'acid', 'act', 'action', 'activ', 'actor',\n",
       "       'actual', 'ad', 'add', 'address', 'admiss', 'adult', 'advanc',\n",
       "       'advantag', 'advic', 'affect', 'africa', 'african', 'age', 'ago',\n",
       "       'air', 'allow', 'almost', 'alon', 'alreadi', 'also', 'altern',\n",
       "       'alway', 'amazon', 'america', 'american', 'among', 'amount',\n",
       "       'analysi', 'android', 'anim', 'anoth', 'answer', 'anyon', 'anyth',\n",
       "       'apart', 'app', 'appear', 'appl', 'appli', 'applic', 'approach',\n",
       "       'arab', 'area', 'arm', 'armi', 'around', 'art', 'asian', 'ask',\n",
       "       'associ', 'atheist', 'attack'], dtype=object)"
      ]
     },
     "execution_count": 17,
     "metadata": {},
     "output_type": "execute_result"
    }
   ],
   "source": [
    "vectorizer.get_feature_names_out()[:100]"
   ]
  },
  {
   "cell_type": "code",
   "execution_count": 18,
   "id": "ce918532",
   "metadata": {
    "execution": {
     "iopub.execute_input": "2023-06-06T15:02:51.467621Z",
     "iopub.status.busy": "2023-06-06T15:02:51.466718Z",
     "iopub.status.idle": "2023-06-06T15:12:02.966454Z",
     "shell.execute_reply": "2023-06-06T15:12:02.965502Z"
    },
    "id": "hS18xeV2Zorm",
    "outputId": "e2268434-479d-4c44-fa26-9147458df702",
    "papermill": {
     "duration": 551.539541,
     "end_time": "2023-06-06T15:12:02.985014",
     "exception": false,
     "start_time": "2023-06-06T15:02:51.445473",
     "status": "completed"
    },
    "tags": []
   },
   "outputs": [
    {
     "name": "stdout",
     "output_type": "stream",
     "text": [
      "CPU times: user 9min 11s, sys: 316 ms, total: 9min 11s\n",
      "Wall time: 9min 11s\n"
     ]
    }
   ],
   "source": [
    "%%time\n",
    "inputs = vectorizer.transform(df['question_text'])"
   ]
  },
  {
   "cell_type": "code",
   "execution_count": 19,
   "id": "dfe7ef98",
   "metadata": {
    "execution": {
     "iopub.execute_input": "2023-06-06T15:12:03.019252Z",
     "iopub.status.busy": "2023-06-06T15:12:03.018581Z",
     "iopub.status.idle": "2023-06-06T15:14:42.187597Z",
     "shell.execute_reply": "2023-06-06T15:14:42.186215Z"
    },
    "id": "VLHatwhcmOe2",
    "outputId": "6f19c9ec-cad1-42ab-c945-cf27dae5dc4f",
    "papermill": {
     "duration": 159.206061,
     "end_time": "2023-06-06T15:14:42.207150",
     "exception": false,
     "start_time": "2023-06-06T15:12:03.001089",
     "status": "completed"
    },
    "tags": []
   },
   "outputs": [
    {
     "name": "stdout",
     "output_type": "stream",
     "text": [
      "CPU times: user 2min 39s, sys: 32 ms, total: 2min 39s\n",
      "Wall time: 2min 39s\n"
     ]
    }
   ],
   "source": [
    "%%time\n",
    "test_inputs = vectorizer.transform(test_df['question_text'])"
   ]
  },
  {
   "cell_type": "code",
   "execution_count": 20,
   "id": "b6759a0f",
   "metadata": {
    "execution": {
     "iopub.execute_input": "2023-06-06T15:14:42.240581Z",
     "iopub.status.busy": "2023-06-06T15:14:42.240195Z",
     "iopub.status.idle": "2023-06-06T15:14:42.245012Z",
     "shell.execute_reply": "2023-06-06T15:14:42.244202Z"
    },
    "id": "VErbwA_4Z039",
    "outputId": "30a2b973-f4c1-4bcc-cbc9-1e3f4130af14",
    "papermill": {
     "duration": 0.025035,
     "end_time": "2023-06-06T15:14:42.247908",
     "exception": false,
     "start_time": "2023-06-06T15:14:42.222873",
     "status": "completed"
    },
    "tags": []
   },
   "outputs": [
    {
     "name": "stdout",
     "output_type": "stream",
     "text": [
      "Train Input Shape: (1306122, 1000)\n",
      "Test Input Shape: (375806, 1000)\n"
     ]
    }
   ],
   "source": [
    "print(f\"Train Input Shape: {inputs.shape}\")\n",
    "print(f\"Test Input Shape: {test_inputs.shape}\")"
   ]
  },
  {
   "cell_type": "markdown",
   "id": "855edaa0",
   "metadata": {
    "id": "ZF8FYm3PakUm",
    "papermill": {
     "duration": 0.015724,
     "end_time": "2023-06-06T15:14:42.279684",
     "exception": false,
     "start_time": "2023-06-06T15:14:42.263960",
     "status": "completed"
    },
    "tags": []
   },
   "source": [
    "## Machine Learning for Text Classification"
   ]
  },
  {
   "cell_type": "markdown",
   "id": "5183a2c9",
   "metadata": {
    "id": "50B4_QeEbB7z",
    "papermill": {
     "duration": 0.015843,
     "end_time": "2023-06-06T15:14:42.311428",
     "exception": false,
     "start_time": "2023-06-06T15:14:42.295585",
     "status": "completed"
    },
    "tags": []
   },
   "source": [
    "### Create training and validation set"
   ]
  },
  {
   "cell_type": "code",
   "execution_count": 21,
   "id": "0383e0aa",
   "metadata": {
    "execution": {
     "iopub.execute_input": "2023-06-06T15:14:42.345838Z",
     "iopub.status.busy": "2023-06-06T15:14:42.344667Z",
     "iopub.status.idle": "2023-06-06T15:14:42.350713Z",
     "shell.execute_reply": "2023-06-06T15:14:42.349602Z"
    },
    "id": "tyopyXjhbJ6u",
    "papermill": {
     "duration": 0.026059,
     "end_time": "2023-06-06T15:14:42.353512",
     "exception": false,
     "start_time": "2023-06-06T15:14:42.327453",
     "status": "completed"
    },
    "tags": []
   },
   "outputs": [],
   "source": [
    "from sklearn.model_selection import train_test_split"
   ]
  },
  {
   "cell_type": "code",
   "execution_count": 22,
   "id": "08037339",
   "metadata": {
    "execution": {
     "iopub.execute_input": "2023-06-06T15:14:42.387884Z",
     "iopub.status.busy": "2023-06-06T15:14:42.387085Z",
     "iopub.status.idle": "2023-06-06T15:14:42.708364Z",
     "shell.execute_reply": "2023-06-06T15:14:42.707075Z"
    },
    "id": "9U2RsGhabbKH",
    "papermill": {
     "duration": 0.34156,
     "end_time": "2023-06-06T15:14:42.711188",
     "exception": false,
     "start_time": "2023-06-06T15:14:42.369628",
     "status": "completed"
    },
    "tags": []
   },
   "outputs": [],
   "source": [
    "train_inputs, val_inputs, train_targets, val_targets = train_test_split(inputs, df['target'], test_size=0.3, random_state=42)"
   ]
  },
  {
   "cell_type": "code",
   "execution_count": 23,
   "id": "09dd0a18",
   "metadata": {
    "execution": {
     "iopub.execute_input": "2023-06-06T15:14:42.745721Z",
     "iopub.status.busy": "2023-06-06T15:14:42.745331Z",
     "iopub.status.idle": "2023-06-06T15:14:42.751668Z",
     "shell.execute_reply": "2023-06-06T15:14:42.750501Z"
    },
    "id": "HeSp0eW-bvgy",
    "outputId": "d6601076-5998-4096-d7ae-9a1f96fb0077",
    "papermill": {
     "duration": 0.026399,
     "end_time": "2023-06-06T15:14:42.754236",
     "exception": false,
     "start_time": "2023-06-06T15:14:42.727837",
     "status": "completed"
    },
    "tags": []
   },
   "outputs": [
    {
     "name": "stdout",
     "output_type": "stream",
     "text": [
      "Train Input Shape: (914285, 1000)\n",
      "Validation Input Shape: (391837, 1000)\n",
      "Train Target Shape: (914285,)\n",
      "Validation Target Shape: (391837,)\n"
     ]
    }
   ],
   "source": [
    "print(f\"Train Input Shape: {train_inputs.shape}\")\n",
    "print(f\"Validation Input Shape: {val_inputs.shape}\")\n",
    "print(f\"Train Target Shape: {train_targets.shape}\")\n",
    "print(f\"Validation Target Shape: {val_targets.shape}\")"
   ]
  },
  {
   "cell_type": "markdown",
   "id": "df017573",
   "metadata": {
    "id": "MrJ72QdAcC-h",
    "papermill": {
     "duration": 0.015868,
     "end_time": "2023-06-06T15:14:42.786293",
     "exception": false,
     "start_time": "2023-06-06T15:14:42.770425",
     "status": "completed"
    },
    "tags": []
   },
   "source": [
    "### Logistic Regression Model"
   ]
  },
  {
   "cell_type": "code",
   "execution_count": 24,
   "id": "54a4fb44",
   "metadata": {
    "execution": {
     "iopub.execute_input": "2023-06-06T15:14:42.820894Z",
     "iopub.status.busy": "2023-06-06T15:14:42.820491Z",
     "iopub.status.idle": "2023-06-06T15:14:42.825936Z",
     "shell.execute_reply": "2023-06-06T15:14:42.824765Z"
    },
    "id": "pb5e-3YpcGgM",
    "papermill": {
     "duration": 0.025756,
     "end_time": "2023-06-06T15:14:42.828588",
     "exception": false,
     "start_time": "2023-06-06T15:14:42.802832",
     "status": "completed"
    },
    "tags": []
   },
   "outputs": [],
   "source": [
    "from sklearn.linear_model import LogisticRegression"
   ]
  },
  {
   "cell_type": "code",
   "execution_count": 25,
   "id": "6f880a35",
   "metadata": {
    "execution": {
     "iopub.execute_input": "2023-06-06T15:14:42.863154Z",
     "iopub.status.busy": "2023-06-06T15:14:42.862114Z",
     "iopub.status.idle": "2023-06-06T15:14:42.867955Z",
     "shell.execute_reply": "2023-06-06T15:14:42.866894Z"
    },
    "id": "dG5FSuoycNzs",
    "papermill": {
     "duration": 0.025765,
     "end_time": "2023-06-06T15:14:42.870473",
     "exception": false,
     "start_time": "2023-06-06T15:14:42.844708",
     "status": "completed"
    },
    "tags": []
   },
   "outputs": [],
   "source": [
    "model = LogisticRegression(max_iter=1000, solver='sag')"
   ]
  },
  {
   "cell_type": "code",
   "execution_count": 26,
   "id": "c85ff927",
   "metadata": {
    "execution": {
     "iopub.execute_input": "2023-06-06T15:14:42.904849Z",
     "iopub.status.busy": "2023-06-06T15:14:42.904484Z",
     "iopub.status.idle": "2023-06-06T15:21:07.940095Z",
     "shell.execute_reply": "2023-06-06T15:21:07.938932Z"
    },
    "id": "WLfasmnCcQL6",
    "outputId": "537167fa-ff81-4d3a-9a35-50b4301fd3e8",
    "papermill": {
     "duration": 385.07223,
     "end_time": "2023-06-06T15:21:07.959027",
     "exception": false,
     "start_time": "2023-06-06T15:14:42.886797",
     "status": "completed"
    },
    "tags": []
   },
   "outputs": [
    {
     "data": {
      "text/html": [
       "<style>#sk-container-id-2 {color: black;background-color: white;}#sk-container-id-2 pre{padding: 0;}#sk-container-id-2 div.sk-toggleable {background-color: white;}#sk-container-id-2 label.sk-toggleable__label {cursor: pointer;display: block;width: 100%;margin-bottom: 0;padding: 0.3em;box-sizing: border-box;text-align: center;}#sk-container-id-2 label.sk-toggleable__label-arrow:before {content: \"▸\";float: left;margin-right: 0.25em;color: #696969;}#sk-container-id-2 label.sk-toggleable__label-arrow:hover:before {color: black;}#sk-container-id-2 div.sk-estimator:hover label.sk-toggleable__label-arrow:before {color: black;}#sk-container-id-2 div.sk-toggleable__content {max-height: 0;max-width: 0;overflow: hidden;text-align: left;background-color: #f0f8ff;}#sk-container-id-2 div.sk-toggleable__content pre {margin: 0.2em;color: black;border-radius: 0.25em;background-color: #f0f8ff;}#sk-container-id-2 input.sk-toggleable__control:checked~div.sk-toggleable__content {max-height: 200px;max-width: 100%;overflow: auto;}#sk-container-id-2 input.sk-toggleable__control:checked~label.sk-toggleable__label-arrow:before {content: \"▾\";}#sk-container-id-2 div.sk-estimator input.sk-toggleable__control:checked~label.sk-toggleable__label {background-color: #d4ebff;}#sk-container-id-2 div.sk-label input.sk-toggleable__control:checked~label.sk-toggleable__label {background-color: #d4ebff;}#sk-container-id-2 input.sk-hidden--visually {border: 0;clip: rect(1px 1px 1px 1px);clip: rect(1px, 1px, 1px, 1px);height: 1px;margin: -1px;overflow: hidden;padding: 0;position: absolute;width: 1px;}#sk-container-id-2 div.sk-estimator {font-family: monospace;background-color: #f0f8ff;border: 1px dotted black;border-radius: 0.25em;box-sizing: border-box;margin-bottom: 0.5em;}#sk-container-id-2 div.sk-estimator:hover {background-color: #d4ebff;}#sk-container-id-2 div.sk-parallel-item::after {content: \"\";width: 100%;border-bottom: 1px solid gray;flex-grow: 1;}#sk-container-id-2 div.sk-label:hover label.sk-toggleable__label {background-color: #d4ebff;}#sk-container-id-2 div.sk-serial::before {content: \"\";position: absolute;border-left: 1px solid gray;box-sizing: border-box;top: 0;bottom: 0;left: 50%;z-index: 0;}#sk-container-id-2 div.sk-serial {display: flex;flex-direction: column;align-items: center;background-color: white;padding-right: 0.2em;padding-left: 0.2em;position: relative;}#sk-container-id-2 div.sk-item {position: relative;z-index: 1;}#sk-container-id-2 div.sk-parallel {display: flex;align-items: stretch;justify-content: center;background-color: white;position: relative;}#sk-container-id-2 div.sk-item::before, #sk-container-id-2 div.sk-parallel-item::before {content: \"\";position: absolute;border-left: 1px solid gray;box-sizing: border-box;top: 0;bottom: 0;left: 50%;z-index: -1;}#sk-container-id-2 div.sk-parallel-item {display: flex;flex-direction: column;z-index: 1;position: relative;background-color: white;}#sk-container-id-2 div.sk-parallel-item:first-child::after {align-self: flex-end;width: 50%;}#sk-container-id-2 div.sk-parallel-item:last-child::after {align-self: flex-start;width: 50%;}#sk-container-id-2 div.sk-parallel-item:only-child::after {width: 0;}#sk-container-id-2 div.sk-dashed-wrapped {border: 1px dashed gray;margin: 0 0.4em 0.5em 0.4em;box-sizing: border-box;padding-bottom: 0.4em;background-color: white;}#sk-container-id-2 div.sk-label label {font-family: monospace;font-weight: bold;display: inline-block;line-height: 1.2em;}#sk-container-id-2 div.sk-label-container {text-align: center;}#sk-container-id-2 div.sk-container {/* jupyter's `normalize.less` sets `[hidden] { display: none; }` but bootstrap.min.css set `[hidden] { display: none !important; }` so we also need the `!important` here to be able to override the default hidden behavior on the sphinx rendered scikit-learn.org. See: https://github.com/scikit-learn/scikit-learn/issues/21755 */display: inline-block !important;position: relative;}#sk-container-id-2 div.sk-text-repr-fallback {display: none;}</style><div id=\"sk-container-id-2\" class=\"sk-top-container\"><div class=\"sk-text-repr-fallback\"><pre>LogisticRegression(max_iter=1000, solver=&#x27;sag&#x27;)</pre><b>In a Jupyter environment, please rerun this cell to show the HTML representation or trust the notebook. <br />On GitHub, the HTML representation is unable to render, please try loading this page with nbviewer.org.</b></div><div class=\"sk-container\" hidden><div class=\"sk-item\"><div class=\"sk-estimator sk-toggleable\"><input class=\"sk-toggleable__control sk-hidden--visually\" id=\"sk-estimator-id-2\" type=\"checkbox\" checked><label for=\"sk-estimator-id-2\" class=\"sk-toggleable__label sk-toggleable__label-arrow\">LogisticRegression</label><div class=\"sk-toggleable__content\"><pre>LogisticRegression(max_iter=1000, solver=&#x27;sag&#x27;)</pre></div></div></div></div></div>"
      ],
      "text/plain": [
       "LogisticRegression(max_iter=1000, solver='sag')"
      ]
     },
     "execution_count": 26,
     "metadata": {},
     "output_type": "execute_result"
    }
   ],
   "source": [
    "model.fit(train_inputs, train_targets)"
   ]
  },
  {
   "cell_type": "code",
   "execution_count": 27,
   "id": "fcf97ebd",
   "metadata": {
    "execution": {
     "iopub.execute_input": "2023-06-06T15:21:07.994507Z",
     "iopub.status.busy": "2023-06-06T15:21:07.994090Z",
     "iopub.status.idle": "2023-06-06T15:21:08.028142Z",
     "shell.execute_reply": "2023-06-06T15:21:08.026936Z"
    },
    "id": "GUAV_2_dcwsM",
    "papermill": {
     "duration": 0.055493,
     "end_time": "2023-06-06T15:21:08.030794",
     "exception": false,
     "start_time": "2023-06-06T15:21:07.975301",
     "status": "completed"
    },
    "tags": []
   },
   "outputs": [],
   "source": [
    "train_preds = model.predict(train_inputs)"
   ]
  },
  {
   "cell_type": "code",
   "execution_count": 28,
   "id": "72f26378",
   "metadata": {
    "execution": {
     "iopub.execute_input": "2023-06-06T15:21:08.065532Z",
     "iopub.status.busy": "2023-06-06T15:21:08.065111Z",
     "iopub.status.idle": "2023-06-06T15:21:08.082853Z",
     "shell.execute_reply": "2023-06-06T15:21:08.081588Z"
    },
    "id": "ztJSNcedpi2k",
    "papermill": {
     "duration": 0.038423,
     "end_time": "2023-06-06T15:21:08.085667",
     "exception": false,
     "start_time": "2023-06-06T15:21:08.047244",
     "status": "completed"
    },
    "tags": []
   },
   "outputs": [],
   "source": [
    "val_preds= model.predict(val_inputs)"
   ]
  },
  {
   "cell_type": "markdown",
   "id": "a7f21d69",
   "metadata": {
    "id": "xax2gDwpnw_l",
    "papermill": {
     "duration": 0.016437,
     "end_time": "2023-06-06T15:21:08.118537",
     "exception": false,
     "start_time": "2023-06-06T15:21:08.102100",
     "status": "completed"
    },
    "tags": []
   },
   "source": [
    "### Accuracy and F1 Score"
   ]
  },
  {
   "cell_type": "code",
   "execution_count": 29,
   "id": "2a7497f4",
   "metadata": {
    "execution": {
     "iopub.execute_input": "2023-06-06T15:21:08.152406Z",
     "iopub.status.busy": "2023-06-06T15:21:08.151642Z",
     "iopub.status.idle": "2023-06-06T15:21:08.156950Z",
     "shell.execute_reply": "2023-06-06T15:21:08.156029Z"
    },
    "id": "fK6rxAiEdvkK",
    "papermill": {
     "duration": 0.024912,
     "end_time": "2023-06-06T15:21:08.159201",
     "exception": false,
     "start_time": "2023-06-06T15:21:08.134289",
     "status": "completed"
    },
    "tags": []
   },
   "outputs": [],
   "source": [
    "from sklearn.metrics import accuracy_score\n",
    "from sklearn.metrics import f1_score"
   ]
  },
  {
   "cell_type": "code",
   "execution_count": 30,
   "id": "959362a6",
   "metadata": {
    "execution": {
     "iopub.execute_input": "2023-06-06T15:21:08.194494Z",
     "iopub.status.busy": "2023-06-06T15:21:08.193446Z",
     "iopub.status.idle": "2023-06-06T15:21:08.547752Z",
     "shell.execute_reply": "2023-06-06T15:21:08.546395Z"
    },
    "id": "Gmnfr8EbeFm9",
    "outputId": "b4c68f8f-2a7a-4185-c1ff-2a555565341c",
    "papermill": {
     "duration": 0.375526,
     "end_time": "2023-06-06T15:21:08.550978",
     "exception": false,
     "start_time": "2023-06-06T15:21:08.175452",
     "status": "completed"
    },
    "tags": []
   },
   "outputs": [
    {
     "name": "stdout",
     "output_type": "stream",
     "text": [
      "Training Accuracy 0.945431676118497\n",
      "Training F1 Score 0.38581329787888863\n"
     ]
    }
   ],
   "source": [
    "print(f\"Training Accuracy {accuracy_score(train_targets, train_preds)}\")\n",
    "print(f\"Training F1 Score {f1_score(train_targets, train_preds)}\")"
   ]
  },
  {
   "cell_type": "code",
   "execution_count": 31,
   "id": "79010568",
   "metadata": {
    "execution": {
     "iopub.execute_input": "2023-06-06T15:21:08.585377Z",
     "iopub.status.busy": "2023-06-06T15:21:08.584956Z",
     "iopub.status.idle": "2023-06-06T15:21:08.733991Z",
     "shell.execute_reply": "2023-06-06T15:21:08.732466Z"
    },
    "id": "Ofhx4I6LeKEi",
    "outputId": "6fa77118-bdde-4aa5-8bf7-6cb459fd8134",
    "papermill": {
     "duration": 0.1691,
     "end_time": "2023-06-06T15:21:08.736345",
     "exception": false,
     "start_time": "2023-06-06T15:21:08.567245",
     "status": "completed"
    },
    "tags": []
   },
   "outputs": [
    {
     "name": "stdout",
     "output_type": "stream",
     "text": [
      "Validation Accuracy 0.9462429530646672\n",
      "Validation F1 Score 0.383949461862424\n"
     ]
    }
   ],
   "source": [
    "print(f\"Validation Accuracy {accuracy_score(val_targets, val_preds)}\")\n",
    "print(f\"Validation F1 Score {f1_score(val_targets, val_preds)}\")"
   ]
  },
  {
   "cell_type": "markdown",
   "id": "6d7a0577",
   "metadata": {
    "id": "ixUmFNPMgibi",
    "papermill": {
     "duration": 0.016194,
     "end_time": "2023-06-06T15:21:08.769216",
     "exception": false,
     "start_time": "2023-06-06T15:21:08.753022",
     "status": "completed"
    },
    "tags": []
   },
   "source": [
    "### Making Predictions for Kaggle"
   ]
  },
  {
   "cell_type": "code",
   "execution_count": 32,
   "id": "3ae13b82",
   "metadata": {
    "execution": {
     "iopub.execute_input": "2023-06-06T15:21:08.804713Z",
     "iopub.status.busy": "2023-06-06T15:21:08.804265Z",
     "iopub.status.idle": "2023-06-06T15:21:08.818636Z",
     "shell.execute_reply": "2023-06-06T15:21:08.817388Z"
    },
    "id": "3QqmtFUVhkYU",
    "outputId": "cd4095f8-a6ca-447f-d925-7487fbe60f25",
    "papermill": {
     "duration": 0.035297,
     "end_time": "2023-06-06T15:21:08.821028",
     "exception": false,
     "start_time": "2023-06-06T15:21:08.785731",
     "status": "completed"
    },
    "tags": []
   },
   "outputs": [
    {
     "data": {
      "text/html": [
       "<div>\n",
       "<style scoped>\n",
       "    .dataframe tbody tr th:only-of-type {\n",
       "        vertical-align: middle;\n",
       "    }\n",
       "\n",
       "    .dataframe tbody tr th {\n",
       "        vertical-align: top;\n",
       "    }\n",
       "\n",
       "    .dataframe thead th {\n",
       "        text-align: right;\n",
       "    }\n",
       "</style>\n",
       "<table border=\"1\" class=\"dataframe\">\n",
       "  <thead>\n",
       "    <tr style=\"text-align: right;\">\n",
       "      <th></th>\n",
       "      <th>qid</th>\n",
       "      <th>question_text</th>\n",
       "    </tr>\n",
       "  </thead>\n",
       "  <tbody>\n",
       "    <tr>\n",
       "      <th>0</th>\n",
       "      <td>0000163e3ea7c7a74cd7</td>\n",
       "      <td>Why do so many women become so rude and arroga...</td>\n",
       "    </tr>\n",
       "    <tr>\n",
       "      <th>1</th>\n",
       "      <td>00002bd4fb5d505b9161</td>\n",
       "      <td>When should I apply for RV college of engineer...</td>\n",
       "    </tr>\n",
       "    <tr>\n",
       "      <th>2</th>\n",
       "      <td>00007756b4a147d2b0b3</td>\n",
       "      <td>What is it really like to be a nurse practitio...</td>\n",
       "    </tr>\n",
       "    <tr>\n",
       "      <th>3</th>\n",
       "      <td>000086e4b7e1c7146103</td>\n",
       "      <td>Who are entrepreneurs?</td>\n",
       "    </tr>\n",
       "    <tr>\n",
       "      <th>4</th>\n",
       "      <td>0000c4c3fbe8785a3090</td>\n",
       "      <td>Is education really making good people nowadays?</td>\n",
       "    </tr>\n",
       "    <tr>\n",
       "      <th>...</th>\n",
       "      <td>...</td>\n",
       "      <td>...</td>\n",
       "    </tr>\n",
       "    <tr>\n",
       "      <th>375801</th>\n",
       "      <td>ffff7fa746bd6d6197a9</td>\n",
       "      <td>How many countries listed in gold import in in...</td>\n",
       "    </tr>\n",
       "    <tr>\n",
       "      <th>375802</th>\n",
       "      <td>ffffa1be31c43046ab6b</td>\n",
       "      <td>Is there an alternative to dresses on formal p...</td>\n",
       "    </tr>\n",
       "    <tr>\n",
       "      <th>375803</th>\n",
       "      <td>ffffae173b6ca6bfa563</td>\n",
       "      <td>Where I can find best friendship quotes in Tel...</td>\n",
       "    </tr>\n",
       "    <tr>\n",
       "      <th>375804</th>\n",
       "      <td>ffffb1f7f1a008620287</td>\n",
       "      <td>What are the causes of refraction of light?</td>\n",
       "    </tr>\n",
       "    <tr>\n",
       "      <th>375805</th>\n",
       "      <td>fffff85473f4699474b0</td>\n",
       "      <td>Climate change is a worrying topic. How much t...</td>\n",
       "    </tr>\n",
       "  </tbody>\n",
       "</table>\n",
       "<p>375806 rows × 2 columns</p>\n",
       "</div>"
      ],
      "text/plain": [
       "                         qid  \\\n",
       "0       0000163e3ea7c7a74cd7   \n",
       "1       00002bd4fb5d505b9161   \n",
       "2       00007756b4a147d2b0b3   \n",
       "3       000086e4b7e1c7146103   \n",
       "4       0000c4c3fbe8785a3090   \n",
       "...                      ...   \n",
       "375801  ffff7fa746bd6d6197a9   \n",
       "375802  ffffa1be31c43046ab6b   \n",
       "375803  ffffae173b6ca6bfa563   \n",
       "375804  ffffb1f7f1a008620287   \n",
       "375805  fffff85473f4699474b0   \n",
       "\n",
       "                                            question_text  \n",
       "0       Why do so many women become so rude and arroga...  \n",
       "1       When should I apply for RV college of engineer...  \n",
       "2       What is it really like to be a nurse practitio...  \n",
       "3                                  Who are entrepreneurs?  \n",
       "4        Is education really making good people nowadays?  \n",
       "...                                                   ...  \n",
       "375801  How many countries listed in gold import in in...  \n",
       "375802  Is there an alternative to dresses on formal p...  \n",
       "375803  Where I can find best friendship quotes in Tel...  \n",
       "375804        What are the causes of refraction of light?  \n",
       "375805  Climate change is a worrying topic. How much t...  \n",
       "\n",
       "[375806 rows x 2 columns]"
      ]
     },
     "execution_count": 32,
     "metadata": {},
     "output_type": "execute_result"
    }
   ],
   "source": [
    "test_df"
   ]
  },
  {
   "cell_type": "code",
   "execution_count": 33,
   "id": "db24cbb7",
   "metadata": {
    "execution": {
     "iopub.execute_input": "2023-06-06T15:21:08.856758Z",
     "iopub.status.busy": "2023-06-06T15:21:08.856122Z",
     "iopub.status.idle": "2023-06-06T15:21:08.873291Z",
     "shell.execute_reply": "2023-06-06T15:21:08.872277Z"
    },
    "id": "VXDJQ3xfhmCI",
    "papermill": {
     "duration": 0.037975,
     "end_time": "2023-06-06T15:21:08.875826",
     "exception": false,
     "start_time": "2023-06-06T15:21:08.837851",
     "status": "completed"
    },
    "tags": []
   },
   "outputs": [],
   "source": [
    "test_preds = model.predict(test_inputs)"
   ]
  },
  {
   "cell_type": "code",
   "execution_count": 34,
   "id": "c3833229",
   "metadata": {
    "execution": {
     "iopub.execute_input": "2023-06-06T15:21:08.911862Z",
     "iopub.status.busy": "2023-06-06T15:21:08.911220Z",
     "iopub.status.idle": "2023-06-06T15:21:08.923868Z",
     "shell.execute_reply": "2023-06-06T15:21:08.922549Z"
    },
    "id": "0ivRZXPIht-q",
    "outputId": "c646e690-e2c6-4def-c86d-a2a298d50730",
    "papermill": {
     "duration": 0.033414,
     "end_time": "2023-06-06T15:21:08.926214",
     "exception": false,
     "start_time": "2023-06-06T15:21:08.892800",
     "status": "completed"
    },
    "tags": []
   },
   "outputs": [
    {
     "data": {
      "text/html": [
       "<div>\n",
       "<style scoped>\n",
       "    .dataframe tbody tr th:only-of-type {\n",
       "        vertical-align: middle;\n",
       "    }\n",
       "\n",
       "    .dataframe tbody tr th {\n",
       "        vertical-align: top;\n",
       "    }\n",
       "\n",
       "    .dataframe thead th {\n",
       "        text-align: right;\n",
       "    }\n",
       "</style>\n",
       "<table border=\"1\" class=\"dataframe\">\n",
       "  <thead>\n",
       "    <tr style=\"text-align: right;\">\n",
       "      <th></th>\n",
       "      <th>qid</th>\n",
       "      <th>prediction</th>\n",
       "    </tr>\n",
       "  </thead>\n",
       "  <tbody>\n",
       "    <tr>\n",
       "      <th>0</th>\n",
       "      <td>0000163e3ea7c7a74cd7</td>\n",
       "      <td>0</td>\n",
       "    </tr>\n",
       "    <tr>\n",
       "      <th>1</th>\n",
       "      <td>00002bd4fb5d505b9161</td>\n",
       "      <td>0</td>\n",
       "    </tr>\n",
       "    <tr>\n",
       "      <th>2</th>\n",
       "      <td>00007756b4a147d2b0b3</td>\n",
       "      <td>0</td>\n",
       "    </tr>\n",
       "    <tr>\n",
       "      <th>3</th>\n",
       "      <td>000086e4b7e1c7146103</td>\n",
       "      <td>0</td>\n",
       "    </tr>\n",
       "    <tr>\n",
       "      <th>4</th>\n",
       "      <td>0000c4c3fbe8785a3090</td>\n",
       "      <td>0</td>\n",
       "    </tr>\n",
       "    <tr>\n",
       "      <th>...</th>\n",
       "      <td>...</td>\n",
       "      <td>...</td>\n",
       "    </tr>\n",
       "    <tr>\n",
       "      <th>375801</th>\n",
       "      <td>ffff7fa746bd6d6197a9</td>\n",
       "      <td>0</td>\n",
       "    </tr>\n",
       "    <tr>\n",
       "      <th>375802</th>\n",
       "      <td>ffffa1be31c43046ab6b</td>\n",
       "      <td>0</td>\n",
       "    </tr>\n",
       "    <tr>\n",
       "      <th>375803</th>\n",
       "      <td>ffffae173b6ca6bfa563</td>\n",
       "      <td>0</td>\n",
       "    </tr>\n",
       "    <tr>\n",
       "      <th>375804</th>\n",
       "      <td>ffffb1f7f1a008620287</td>\n",
       "      <td>0</td>\n",
       "    </tr>\n",
       "    <tr>\n",
       "      <th>375805</th>\n",
       "      <td>fffff85473f4699474b0</td>\n",
       "      <td>0</td>\n",
       "    </tr>\n",
       "  </tbody>\n",
       "</table>\n",
       "<p>375806 rows × 2 columns</p>\n",
       "</div>"
      ],
      "text/plain": [
       "                         qid  prediction\n",
       "0       0000163e3ea7c7a74cd7           0\n",
       "1       00002bd4fb5d505b9161           0\n",
       "2       00007756b4a147d2b0b3           0\n",
       "3       000086e4b7e1c7146103           0\n",
       "4       0000c4c3fbe8785a3090           0\n",
       "...                      ...         ...\n",
       "375801  ffff7fa746bd6d6197a9           0\n",
       "375802  ffffa1be31c43046ab6b           0\n",
       "375803  ffffae173b6ca6bfa563           0\n",
       "375804  ffffb1f7f1a008620287           0\n",
       "375805  fffff85473f4699474b0           0\n",
       "\n",
       "[375806 rows x 2 columns]"
      ]
     },
     "execution_count": 34,
     "metadata": {},
     "output_type": "execute_result"
    }
   ],
   "source": [
    "submission_df"
   ]
  },
  {
   "cell_type": "code",
   "execution_count": 35,
   "id": "aecd4eb7",
   "metadata": {
    "execution": {
     "iopub.execute_input": "2023-06-06T15:21:08.963369Z",
     "iopub.status.busy": "2023-06-06T15:21:08.962710Z",
     "iopub.status.idle": "2023-06-06T15:21:08.968287Z",
     "shell.execute_reply": "2023-06-06T15:21:08.967465Z"
    },
    "id": "KUMccao5h_nm",
    "papermill": {
     "duration": 0.027043,
     "end_time": "2023-06-06T15:21:08.970530",
     "exception": false,
     "start_time": "2023-06-06T15:21:08.943487",
     "status": "completed"
    },
    "tags": []
   },
   "outputs": [],
   "source": [
    "submission_df['prediction'] = test_preds"
   ]
  },
  {
   "cell_type": "code",
   "execution_count": 36,
   "id": "4c805b01",
   "metadata": {
    "execution": {
     "iopub.execute_input": "2023-06-06T15:21:09.007224Z",
     "iopub.status.busy": "2023-06-06T15:21:09.006781Z",
     "iopub.status.idle": "2023-06-06T15:21:09.022137Z",
     "shell.execute_reply": "2023-06-06T15:21:09.020898Z"
    },
    "id": "Y8ChXR6ZiRzO",
    "outputId": "5e648b01-351c-4ade-f8a0-1dcaf3e09525",
    "papermill": {
     "duration": 0.036374,
     "end_time": "2023-06-06T15:21:09.024579",
     "exception": false,
     "start_time": "2023-06-06T15:21:08.988205",
     "status": "completed"
    },
    "tags": []
   },
   "outputs": [
    {
     "data": {
      "text/plain": [
       "0    365946\n",
       "1      9860\n",
       "Name: prediction, dtype: int64"
      ]
     },
     "execution_count": 36,
     "metadata": {},
     "output_type": "execute_result"
    }
   ],
   "source": [
    "submission_df['prediction'].value_counts()"
   ]
  },
  {
   "cell_type": "code",
   "execution_count": 37,
   "id": "e6389bc0",
   "metadata": {
    "execution": {
     "iopub.execute_input": "2023-06-06T15:21:09.061320Z",
     "iopub.status.busy": "2023-06-06T15:21:09.060922Z",
     "iopub.status.idle": "2023-06-06T15:21:10.252209Z",
     "shell.execute_reply": "2023-06-06T15:21:10.251177Z"
    },
    "id": "7lmq3aC4iW01",
    "papermill": {
     "duration": 1.212622,
     "end_time": "2023-06-06T15:21:10.254943",
     "exception": false,
     "start_time": "2023-06-06T15:21:09.042321",
     "status": "completed"
    },
    "tags": []
   },
   "outputs": [],
   "source": [
    "submission_df.to_csv('submission.csv', index=None)"
   ]
  },
  {
   "cell_type": "markdown",
   "id": "1c55dc7b",
   "metadata": {
    "id": "NkaisVAxig89",
    "papermill": {
     "duration": 0.017332,
     "end_time": "2023-06-06T15:21:10.289745",
     "exception": false,
     "start_time": "2023-06-06T15:21:10.272413",
     "status": "completed"
    },
    "tags": []
   },
   "source": [
    "### The End"
   ]
  }
 ],
 "metadata": {
  "kernelspec": {
   "display_name": "Python 3 (ipykernel)",
   "language": "python",
   "name": "python3"
  },
  "language_info": {
   "codemirror_mode": {
    "name": "ipython",
    "version": 3
   },
   "file_extension": ".py",
   "mimetype": "text/x-python",
   "name": "python",
   "nbconvert_exporter": "python",
   "pygments_lexer": "ipython3",
   "version": "3.10.9"
  },
  "papermill": {
   "default_parameters": {},
   "duration": 1672.587901,
   "end_time": "2023-06-06T15:21:11.736736",
   "environment_variables": {},
   "exception": null,
   "input_path": "__notebook__.ipynb",
   "output_path": "__notebook__.ipynb",
   "parameters": {},
   "start_time": "2023-06-06T14:53:19.148835",
   "version": "2.4.0"
  }
 },
 "nbformat": 4,
 "nbformat_minor": 5
}
